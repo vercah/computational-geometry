{
 "cells": [
  {
   "cell_type": "code",
   "execution_count": 68,
   "metadata": {},
   "outputs": [],
   "source": [
    "# Předpoklady:\n",
    "    # Uživatel nakreslí jednoduchý mnohoúhelník\n",
    "    # Uživatel ho nakreslí s pořadím bodů orientovaným proti směru hodinových ručiček"
   ]
  },
  {
   "cell_type": "code",
   "execution_count": 66,
   "metadata": {},
   "outputs": [],
   "source": [
    "import tkinter as tk\n",
    "from tkinter import messagebox\n",
    "from shapely.geometry import LineString\n",
    "import numpy as np\n"
   ]
  },
  {
   "cell_type": "code",
   "execution_count": 62,
   "metadata": {},
   "outputs": [],
   "source": [
    "# setup the canvas\n",
    "\n",
    "window = tk.Tk()\n",
    "window.title(\"Computational Geometry\")\n",
    "\n",
    "canvas_width = 400\n",
    "canvas_height = 400\n",
    "\n",
    "canvas = tk.Canvas(window, width=canvas_width, height=canvas_height)\n",
    "canvas.pack()"
   ]
  },
  {
   "cell_type": "code",
   "execution_count": 63,
   "metadata": {},
   "outputs": [
    {
     "data": {
      "text/plain": [
       "'2789352931528on_canvas_click'"
      ]
     },
     "execution_count": 63,
     "metadata": {},
     "output_type": "execute_result"
    }
   ],
   "source": [
    "# set up points storage and drawing polygons\n",
    "points = []\n",
    "last_points = []\n",
    "\n",
    "def on_canvas_click(click):\n",
    "    x = click.x\n",
    "    y = click.y\n",
    "    points.append((x, y))\n",
    "    canvas.create_oval(x-2, y-2, x+2, y+2, fill=\"black\")  # show the clicked point on the canvas\n",
    "    \n",
    "    # lines between the last two points\n",
    "    if len(points) >= 2:\n",
    "        last_points = points[-2:]\n",
    "        canvas.create_line(last_points, fill=\"black\")\n",
    "\n",
    "canvas.bind(\"<Button-1>\", on_canvas_click) # Button-1 is the left-click"
   ]
  },
  {
   "cell_type": "code",
   "execution_count": null,
   "metadata": {},
   "outputs": [],
   "source": [
    "# triangulation\n",
    "\n",
    "def check_intersection(first1, first2, second1, second2):\n",
    "    first_line = LineString([first1, first2])\n",
    "    second_line = LineString([second1, second2])\n",
    "    if first_line.intersects(second_line):\n",
    "        return True\n",
    "    return False\n",
    "\n",
    "def is_on_the_right(start, end, checked): # check using vectors and cross product\n",
    "    v1 = (end[0] - start[0], end[1] - start[1]) \n",
    "    v2 = (checked[0] - start[0], checked[1] - start[1])\n",
    "    cross_product = v1[0] * v2[1] - v1[1] * v2[0]\n",
    "    if cross_product < 0:\n",
    "        return True\n",
    "    return False\n",
    "\n",
    "def sum_triangles(triangles):\n",
    "    total_area = 0\n",
    "    for triangle in triangles:\n",
    "        area = triangle_area(triangle)\n",
    "        total_area += area\n",
    "    return total_area\n",
    "\n",
    "def triangle_area(triangle):\n",
    "    x1, y1 = triangle[0]\n",
    "    x2, y2 = triangle[1]\n",
    "    x3, y3 = triangle[2]\n",
    "    area = 0.5 * abs((x1 * (y2 - y3) + x2 * (y3 - y1) + x3 * (y1 - y2))) # shoelace formula\n",
    "    return area\n",
    "\n",
    "def triangulate_polygon(points):\n",
    "    while not points: # until it is empty\n",
    "        "
   ]
  },
  {
   "cell_type": "code",
   "execution_count": 64,
   "metadata": {},
   "outputs": [],
   "source": [
    "# buttons\n",
    "\n",
    "def calculate_area():\n",
    "    canvas.unbind(\"<Button-1>\") # stops drawing\n",
    "    calculate_button.config(state=tk.DISABLED)\n",
    "    # TODO: calculation\n",
    "\n",
    "def close_application():\n",
    "    window.destroy()\n",
    "    \n",
    "def clear_canvas():\n",
    "    canvas.delete(\"all\")\n",
    "    points.clear()\n",
    "    canvas.bind(\"<Button-1>\", on_canvas_click)\n",
    "    calculate_button.config(state=tk.NORMAL)\n",
    "\n",
    "calculate_button = tk.Button(window, text=\"Calculate area\", command=calculate_area)\n",
    "calculate_button.pack(side=tk.LEFT, padx=5)\n",
    "\n",
    "clear_button = tk.Button(window, text=\"Clear\", command=clear_canvas)\n",
    "clear_button.pack(side=tk.LEFT, padx=5)\n",
    "\n",
    "close_button = tk.Button(window, text=\"Close\", command=close_application)\n",
    "close_button.pack(side=tk.LEFT, padx=5)"
   ]
  },
  {
   "cell_type": "code",
   "execution_count": 65,
   "metadata": {},
   "outputs": [],
   "source": [
    "window.mainloop()"
   ]
  },
  {
   "cell_type": "code",
   "execution_count": 47,
   "metadata": {},
   "outputs": [
    {
     "data": {
      "text/plain": [
       "[(179, 310), (125, 241), (309, 162), (259, 242)]"
      ]
     },
     "execution_count": 47,
     "metadata": {},
     "output_type": "execute_result"
    }
   ],
   "source": [
    "points"
   ]
  },
  {
   "cell_type": "code",
   "execution_count": null,
   "metadata": {},
   "outputs": [],
   "source": []
  }
 ],
 "metadata": {
  "kernelspec": {
   "display_name": "Python 3",
   "language": "python",
   "name": "python3"
  },
  "language_info": {
   "codemirror_mode": {
    "name": "ipython",
    "version": 3
   },
   "file_extension": ".py",
   "mimetype": "text/x-python",
   "name": "python",
   "nbconvert_exporter": "python",
   "pygments_lexer": "ipython3",
   "version": "3.7.6"
  }
 },
 "nbformat": 4,
 "nbformat_minor": 4
}
