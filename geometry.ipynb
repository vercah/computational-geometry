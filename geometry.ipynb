{
 "cells": [
  {
   "cell_type": "code",
   "execution_count": 140,
   "metadata": {},
   "outputs": [],
   "source": [
    "# Předpoklady:\n",
    "    # Uživatel nakreslí jednoduchý mnohoúhelník\n",
    "    # Uživatel ho nakreslí s pořadím bodů orientovaným proti směru hodinových ručiček"
   ]
  },
  {
   "cell_type": "code",
   "execution_count": 148,
   "metadata": {},
   "outputs": [],
   "source": [
    "import tkinter as tk\n",
    "from tkinter import messagebox\n",
    "from shapely.geometry import LineString\n",
    "import numpy as np\n"
   ]
  },
  {
   "cell_type": "code",
   "execution_count": 149,
   "metadata": {},
   "outputs": [],
   "source": [
    "def on_canvas_click(click):\n",
    "    x = click.x\n",
    "    y = click.y\n",
    "    points.append((x, y))\n",
    "    canvas.create_oval(x-2, y-2, x+2, y+2, fill=\"black\")  # show the clicked point on the canvas\n",
    "    \n",
    "    # lines between the last two points\n",
    "    if len(points) >= 2:\n",
    "        last_points = points[-2:]\n",
    "        canvas.create_line(last_points, fill=\"black\")\n"
   ]
  },
  {
   "cell_type": "code",
   "execution_count": 203,
   "metadata": {},
   "outputs": [],
   "source": [
    "# triangulation\n",
    "\n",
    "def intersects_with_polygon(polygon, point1, point2):\n",
    "    for i in range(len(polygon)):\n",
    "        edge_start = polygon[i]\n",
    "        edge_end = polygon[(i + 1) % len(polygon)]  # polygon is closed\n",
    "        if edge_start == point1 or edge_start == point2 or edge_end == point1 or edge_end == point2: # avoid points themselves\n",
    "            continue    \n",
    "        if check_intersection(point1, point2, edge_start, edge_end):\n",
    "            return True\n",
    "    return False\n",
    "\n",
    "def check_intersection(first1, first2, second1, second2):\n",
    "    first_line = LineString([first1, first2])\n",
    "    second_line = LineString([second1, second2])\n",
    "    if first_line.intersects(second_line):\n",
    "        return True\n",
    "    return False\n",
    "\n",
    "def is_side_correct(start, end, checked, clockwise): # check using vectors and cross product\n",
    "    v1 = (end[0] - start[0], end[1] - start[1]) \n",
    "    v2 = (checked[0] - start[0], checked[1] - start[1])\n",
    "    cross_product = v1[0] * v2[1] - v1[1] * v2[0]\n",
    "    if (cross_product < 0 and clockwise) or (cross_product > 0 and not clockwise):\n",
    "        return True\n",
    "    return False\n",
    "\n",
    "def is_clockwise(polygon):\n",
    "    left = 0\n",
    "    right = 0\n",
    "    for i in range(len(polygon)):\n",
    "        if is_side_correct(polygon[i%len(polygon)], polygon[(i+2)%len(polygon)], polygon[(i+1)%len(polygon)], True):\n",
    "            left += 1\n",
    "        else:\n",
    "            right += 1\n",
    "    if left > right:\n",
    "        return True\n",
    "    return False        \n",
    "\n",
    "def triangulate_polygon(polygon):\n",
    "    triangles = []\n",
    "    going_clockwise = False\n",
    "    if is_clockwise(polygon):\n",
    "        going_clockwise = True\n",
    "    i = 0\n",
    "    while len(polygon) > 2: # until we can't triangulate\n",
    "        vi = polygon[i % len(polygon)]\n",
    "        vii = polygon[(i+1) % len(polygon)]  # polygon is closed\n",
    "        viii = polygon[(i+2) % len(polygon)]\n",
    "        if is_side_correct(vi, viii, vii, going_clockwise):\n",
    "            if not intersects_with_polygon(polygon, vi, viii):\n",
    "                triangles.append((vi, vii, viii))\n",
    "                polygon.remove(vii)\n",
    "                i = 0\n",
    "                continue\n",
    "        if going_clockwise:\n",
    "            i += 1\n",
    "        else:\n",
    "            i -= 1\n",
    "    return triangles\n",
    "\n",
    "def sum_triangles(triangles):\n",
    "    total_area = 0\n",
    "    for triangle in triangles:\n",
    "        area = triangle_area(triangle)\n",
    "        total_area += area\n",
    "    return total_area\n",
    "\n",
    "def triangle_area(triangle):\n",
    "    x1, y1 = triangle[0]\n",
    "    x2, y2 = triangle[1]\n",
    "    x3, y3 = triangle[2]\n",
    "    area = 0.5 * abs((x1 * (y2 - y3) + x2 * (y3 - y1) + x3 * (y1 - y2))) # shoelace formula\n",
    "    return area"
   ]
  },
  {
   "cell_type": "code",
   "execution_count": 204,
   "metadata": {},
   "outputs": [],
   "source": [
    "# buttons\n",
    "\n",
    "def calculate_area():\n",
    "    canvas.create_line(points[0], points[-1:], fill=\"black\")\n",
    "    canvas.unbind(\"<Button-1>\") # stops drawing\n",
    "    calculate_button.config(state=tk.DISABLED) \n",
    "    triangles = triangulate_polygon(points)\n",
    "    area = sum_triangles(triangles)\n",
    "    text = \"Area of this polygon is: \" + str(area)\n",
    "    output_text.insert(tk.END, text)\n",
    "    return area\n",
    "\n",
    "def close_application():\n",
    "    window.destroy()\n",
    "    \n",
    "def clear_canvas():\n",
    "    canvas.delete(\"all\")\n",
    "    points.clear()\n",
    "    canvas.bind(\"<Button-1>\", on_canvas_click)\n",
    "    calculate_button.config(state=tk.NORMAL)\n",
    "    output_text.delete(\"1.0\", tk.END)  # clear text"
   ]
  },
  {
   "cell_type": "code",
   "execution_count": 206,
   "metadata": {
    "scrolled": false
   },
   "outputs": [
    {
     "name": "stdout",
     "output_type": "stream",
     "text": [
      "[(110, 221), (71, 83), (283, 46), (335, 183)]\n",
      "polygon is clockwise\n",
      "side correct for  (71, 83)\n",
      "removed  (71, 83)\n",
      "side correct for  (283, 46)\n",
      "removed  (283, 46)\n"
     ]
    }
   ],
   "source": [
    "# setup the canvas\n",
    "points = []\n",
    "last_points = []\n",
    "\n",
    "window = tk.Tk()\n",
    "window.title(\"Computational Geometry\")\n",
    "\n",
    "canvas_width = 400\n",
    "canvas_height = 300\n",
    "\n",
    "canvas = tk.Canvas(window, width=canvas_width, height=canvas_height, bg=\"white\")\n",
    "canvas.grid(row=0, column=0, columnspan=3, padx=10, pady=10)\n",
    "canvas.bind(\"<Button-1>\", on_canvas_click) # Button-1 is the left-click\n",
    "\n",
    "button_frame = tk.Frame(window)\n",
    "button_frame.grid(row=1, column=0, columnspan=3, padx=5, pady=10)\n",
    "\n",
    "calculate_button = tk.Button(button_frame, text=\"Calculate area\", command=calculate_area)\n",
    "calculate_button.pack(side=tk.LEFT)\n",
    "#calculate_button.grid(row=1, column=0, padx=5, pady=10, sticky=\"w\")\n",
    "\n",
    "clear_button = tk.Button(button_frame, text=\"Clear\", command=clear_canvas)\n",
    "clear_button.pack(side=tk.LEFT)\n",
    "#clear_button.grid(row=1, column=1, padx=5, pady=10, sticky=\"w\")\n",
    "\n",
    "close_button = tk.Button(button_frame, text=\"Close\", command=close_application)\n",
    "close_button.pack(side=tk.LEFT)\n",
    "#close_button.grid(row=1, column=2, padx=5, pady=10, sticky=\"w\")\n",
    "\n",
    "output_text = tk.Text(window, height=5, width=30)\n",
    "output_text.grid(row=2, column=0, columnspan=3, padx=10, pady=10, sticky=\"ew\")\n",
    "window.grid_columnconfigure(0, weight=1)\n",
    "\n",
    "window.mainloop()"
   ]
  },
  {
   "cell_type": "code",
   "execution_count": 121,
   "metadata": {},
   "outputs": [],
   "source": [
    "#TODO:\n",
    "    # přidat ošetření, když to uživatel nakreslí v opačném směru (nebo to prostě udělat v tom druhém? Hm\n",
    "    # "
   ]
  },
  {
   "cell_type": "code",
   "execution_count": 95,
   "metadata": {},
   "outputs": [
    {
     "data": {
      "text/plain": [
       "2"
      ]
     },
     "execution_count": 95,
     "metadata": {},
     "output_type": "execute_result"
    }
   ],
   "source": [
    "-4 % 3"
   ]
  },
  {
   "cell_type": "code",
   "execution_count": null,
   "metadata": {},
   "outputs": [],
   "source": []
  }
 ],
 "metadata": {
  "kernelspec": {
   "display_name": "Python 3",
   "language": "python",
   "name": "python3"
  },
  "language_info": {
   "codemirror_mode": {
    "name": "ipython",
    "version": 3
   },
   "file_extension": ".py",
   "mimetype": "text/x-python",
   "name": "python",
   "nbconvert_exporter": "python",
   "pygments_lexer": "ipython3",
   "version": "3.7.6"
  }
 },
 "nbformat": 4,
 "nbformat_minor": 4
}
